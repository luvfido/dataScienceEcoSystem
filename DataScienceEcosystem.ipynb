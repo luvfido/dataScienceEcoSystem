{
 "cells": [
  {
   "cell_type": "markdown",
   "id": "3b46d74b-6ef8-45d3-bd0f-96e9fe1d2059",
   "metadata": {},
   "source": [
    "# Data Science Tools and Ecosystem"
   ]
  },
  {
   "cell_type": "markdown",
   "id": "7c4ef8f8-43ef-4536-96cb-d8289ba23747",
   "metadata": {},
   "source": [
    "In this notebook, Data Science Tools and Ecosystem are summarized."
   ]
  },
  {
   "cell_type": "markdown",
   "id": "361f7046-6e8f-43b8-aa5a-47511f4b95e3",
   "metadata": {},
   "source": [
    "**Objectives:**\n",
    "- List popular languages for Data Science\n",
    "- List popular libraries for Data Science\n",
    "- List popular development environments  for Data Science"
   ]
  },
  {
   "cell_type": "markdown",
   "id": "07ed8ab0-279c-43bf-a89e-0556d3c07ee8",
   "metadata": {},
   "source": [
    "Some of the popular languages that Data Scientists use are:\n",
    "1. Python\n",
    "2. R\n",
    "3. SQL\n",
    "4. Scala\n",
    "5. Java\n",
    "6. C++ \n",
    "7. Julia."
   ]
  },
  {
   "cell_type": "markdown",
   "id": "574bff00-de08-40e3-a4ed-7b0475e7d7bf",
   "metadata": {},
   "source": [
    "Some of the commonly used libraries used by Data Scientists include:\n",
    "1. Pandas\n",
    "2. Numpy\n",
    "3. Scipy\n",
    "4. Matplotlib\n",
    "5. Seaborn\n",
    "6. Scikit-Learn\n",
    "7. Keras\n",
    "8. TensorFlow\n",
    "9. Pytorch\n",
    "10. dplyr\n",
    "11. stringr\n",
    "12. ggplot\n",
    "13. caret"
   ]
  },
  {
   "cell_type": "markdown",
   "id": "f77a9692-6048-4595-857c-34e1cd75fc2c",
   "metadata": {},
   "source": [
    "| Data Science Tools |\n",
    "|--------------------|\n",
    "| Jupyter |\n",
    "| RStudio |\n",
    "| Spyder |"
   ]
  },
  {
   "cell_type": "markdown",
   "id": "feb8f222-3296-419b-a72b-dbfd1c31c077",
   "metadata": {},
   "source": [
    "### Below are a few examples of evaluating arithmetic expressions in Python"
   ]
  },
  {
   "cell_type": "code",
   "execution_count": 10,
   "id": "6eaf1fbb-98dd-4259-bac6-5963132edb54",
   "metadata": {
    "tags": []
   },
   "outputs": [
    {
     "data": {
      "text/plain": [
       "17"
      ]
     },
     "execution_count": 10,
     "metadata": {},
     "output_type": "execute_result"
    }
   ],
   "source": [
    "# This a simple arithmetic expression to mutiply then add integers\n",
    "(3*4)+5"
   ]
  },
  {
   "cell_type": "code",
   "execution_count": 11,
   "id": "a4e673c5-7a7e-4ea4-8a49-621d416b54c3",
   "metadata": {
    "tags": []
   },
   "outputs": [
    {
     "name": "stdout",
     "output_type": "stream",
     "text": [
      "200 minutes is 3.33 hours.\n"
     ]
    }
   ],
   "source": [
    "# This will convert 200 minutes to hours by diving by 60\n",
    "200/60\n",
    "\n",
    "hr = 200/60\n",
    "print(\"200 minutes is \" + str(round(hr, 2)) + \" hours.\")"
   ]
  },
  {
   "cell_type": "markdown",
   "id": "8b00c9c1-6fa2-4506-b927-6a39244622c5",
   "metadata": {},
   "source": [
    "## Author\n",
    "Ming Liu"
   ]
  },
  {
   "cell_type": "code",
   "execution_count": null,
   "id": "8c67f19f-45c8-4277-8ad4-9fa00bc49bb5",
   "metadata": {},
   "outputs": [],
   "source": []
  }
 ],
 "metadata": {
  "kernelspec": {
   "display_name": "Python",
   "language": "python",
   "name": "conda-env-python-py"
  },
  "language_info": {
   "codemirror_mode": {
    "name": "ipython",
    "version": 3
   },
   "file_extension": ".py",
   "mimetype": "text/x-python",
   "name": "python",
   "nbconvert_exporter": "python",
   "pygments_lexer": "ipython3",
   "version": "3.7.12"
  }
 },
 "nbformat": 4,
 "nbformat_minor": 5
}
